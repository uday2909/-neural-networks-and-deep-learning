{
 "cells": [
  {
   "cell_type": "code",
   "execution_count": 6,
   "id": "c093f32a",
   "metadata": {},
   "outputs": [
    {
     "name": "stdout",
     "output_type": "stream",
     "text": [
      "Enter a string: python\n",
      "Reversed string: ohty\n",
      "Enter the first number: 3\n",
      "Enter the second number: 2\n",
      "Arithmetic Operations:\n",
      "Addition: 5.0\n",
      "Subtraction: 1.0\n",
      "Multiplication: 6.0\n",
      "Division: 1.5\n"
     ]
    }
   ],
   "source": [
    "input_string = input(\"Enter a string: \")\n",
    "if len(input_string) >= 2:\n",
    "    modified_string = input_string[1:-1]\n",
    "else:\n",
    "    print(\"Input string should have at least 2 characters.\")\n",
    "    exit()\n",
    "reversed_string = modified_string[::-1]\n",
    "print(\"Reversed string:\", reversed_string)\n",
    "\n",
    "num1 = float(input(\"Enter the first number: \"))\n",
    "num2 = float(input(\"Enter the second number: \"))\n",
    "\n",
    "\n",
    "addition = num1 + num2\n",
    "subtraction = num1 - num2\n",
    "multiplication = num1 * num2\n",
    "\n",
    "\n",
    "if num2 != 0:\n",
    "    division = num1 / num2\n",
    "else:\n",
    "    division = \"Undefined (division by zero)\"\n",
    "\n",
    "print(\"Arithmetic Operations:\")\n",
    "print(\"Addition:\", addition)\n",
    "print(\"Subtraction:\", subtraction)\n",
    "print(\"Multiplication:\", multiplication)\n",
    "print(\"Division:\", division)"
   ]
  },
  {
   "cell_type": "code",
   "execution_count": 3,
   "id": "d3571eb9",
   "metadata": {},
   "outputs": [
    {
     "name": "stdout",
     "output_type": "stream",
     "text": [
      "Enter a sentence: I love python \n",
      "Modified sentence: I love pythons \n"
     ]
    }
   ],
   "source": [
    "input_sentence = input(\"Enter a sentence: \")\n",
    "modified_sentence = input_sentence.replace('python', 'pythons')\n",
    "print(\"Modified sentence:\", modified_sentence)"
   ]
  },
  {
   "cell_type": "code",
   "execution_count": 4,
   "id": "625e02da",
   "metadata": {},
   "outputs": [
    {
     "name": "stdout",
     "output_type": "stream",
     "text": [
      "Enter the class score: 88\n",
      "Letter grade: B\n"
     ]
    }
   ],
   "source": [
    "class_score = float(input(\"Enter the class score: \"))\n",
    "if class_score >= 90:\n",
    "    letter_grade = 'A'\n",
    "elif class_score >= 80:\n",
    "    letter_grade = 'B'\n",
    "elif class_score >= 70:\n",
    "    letter_grade = 'C'\n",
    "elif class_score >= 60:\n",
    "    letter_grade = 'D'\n",
    "else:\n",
    "    letter_grade = 'F'\n",
    "print(\"Letter grade:\", letter_grade)"
   ]
  }
 ],
 "metadata": {
  "kernelspec": {
   "display_name": "Python 3 (ipykernel)",
   "language": "python",
   "name": "python3"
  },
  "language_info": {
   "codemirror_mode": {
    "name": "ipython",
    "version": 3
   },
   "file_extension": ".py",
   "mimetype": "text/x-python",
   "name": "python",
   "nbconvert_exporter": "python",
   "pygments_lexer": "ipython3",
   "version": "3.10.9"
  }
 },
 "nbformat": 4,
 "nbformat_minor": 5
}
